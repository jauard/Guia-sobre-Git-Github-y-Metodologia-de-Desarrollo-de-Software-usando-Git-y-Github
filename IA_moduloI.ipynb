{
  "nbformat": 4,
  "nbformat_minor": 0,
  "metadata": {
    "colab": {
      "name": "Untitled3.ipynb",
      "provenance": [],
      "authorship_tag": "ABX9TyPw0mE7TSsnqnu40QKZwF6l",
      "include_colab_link": true
    },
    "kernelspec": {
      "name": "python3",
      "display_name": "Python 3"
    },
    "language_info": {
      "name": "python"
    }
  },
  "cells": [
    {
      "cell_type": "markdown",
      "metadata": {
        "id": "view-in-github",
        "colab_type": "text"
      },
      "source": [
        "<a href=\"https://colab.research.google.com/github/jauard/Guia-sobre-Git-Github-y-Metodologia-de-Desarrollo-de-Software-usando-Git-y-Github/blob/master/IA_moduloI.ipynb\" target=\"_parent\"><img src=\"https://colab.research.google.com/assets/colab-badge.svg\" alt=\"Open In Colab\"/></a>"
      ]
    },
    {
      "cell_type": "code",
      "execution_count": null,
      "metadata": {
        "id": "ziLC9QqOn7pt"
      },
      "outputs": [],
      "source": [
        "\n",
        "\n",
        "\n"
      ]
    },
    {
      "cell_type": "code",
      "source": [
        "\n",
        "\n"
      ],
      "metadata": {
        "id": "Ou8lgi7Tn9Ef"
      },
      "execution_count": null,
      "outputs": []
    },
    {
      "cell_type": "code",
      "source": [
        "import matplotlib.pyplot as plt\n",
        "import numpy as np\n",
        "import pandas as pd\n",
        "import sklearn.linear_model\n",
        "\n",
        "# Cargando la data data\n",
        "oecd_bli = pd.read_csv(\"oecd_bli_2015.csv\", thousands=',')\n",
        "gdp_per_capita = pd.read_csv(\"gdp_per_capita.csv\",thousands=',',delimiter='\\t',\n",
        "                             encoding='latin1', na_values=\"n/a\")\n",
        "\n",
        "def prepare_country_stats(oecd_bli, gdp_per_capita):\n",
        "    ''' Acomoda los datos para preparar el conjunto de entrenamiento  '''\n",
        "    oecd_bli = oecd_bli[oecd_bli[\"INEQUALITY\"]==\"TOT\"]\n",
        "    oecd_bli = oecd_bli.pivot(index=\"Country\", columns=\"Indicator\", values=\"Value\")\n",
        "    gdp_per_capita.rename(columns={\"2015\": \"GDP per capita\"}, inplace=True)\n",
        "    gdp_per_capita.set_index(\"Country\", inplace=True)\n",
        "    full_country_stats = pd.merge(left=oecd_bli, right=gdp_per_capita,\n",
        "                                  left_index=True, right_index=True)\n",
        "    full_country_stats.sort_values(by=\"GDP per capita\", inplace=True)\n",
        "    remove_indices = [0, 1, 6, 8, 12, 33, 34, 35]\n",
        "    keep_indices = list(set(range(36)) - set(remove_indices))\n",
        "    return full_country_stats[[\"GDP per capita\", 'Life satisfaction']].iloc[keep_indices]\n",
        "\n",
        "# Preparando los datos\n",
        "country_stats = prepare_country_stats(oecd_bli, gdp_per_capita)\n",
        "X = np.c_[country_stats[\"GDP per capita\"]]\n",
        "y = np.c_[country_stats[\"Life satisfaction\"]]\n",
        "\n",
        "# Visualizando la data\n",
        "country_stats.plot(kind='scatter', x=\"GDP per capita\", y='Life satisfaction')\n",
        "plt.show()\n",
        "\n",
        "# Seleccionar un modelo lineal\n",
        "model = sklearn.linear_model.LinearRegression()\n",
        "\n",
        "# Entrenando el modelo\n",
        "model.fit(X, y)\n",
        "\n",
        "# Haciendo una predicción para Chipre\n",
        "X_new = [[22587]]  # GDP de Chipre\n",
        "print(model.predict(X_new)) # salida "
      ],
      "metadata": {
        "id": "lt61jG19n-Oe"
      },
      "execution_count": null,
      "outputs": []
    },
    {
      "cell_type": "code",
      "source": [
        "# Haciendo una predicción para Eslovenia\n",
        "X_new = [[20732]]  # GDP de Eslovenia\n",
        "print(model.predict(X_new)) # salida [[ 5.87131422]]"
      ],
      "metadata": {
        "id": "vwOxL4-9oDzH"
      },
      "execution_count": null,
      "outputs": []
    },
    {
      "cell_type": "code",
      "source": [
        "# Select a 3-Nearest Neighbors regression model\n",
        "import sklearn.neighbors\n",
        "model1 = sklearn.neighbors.KNeighborsRegressor(n_neighbors=11)\n",
        "\n",
        "# Entrenando el modelo\n",
        "model1.fit(X,y)\n",
        "\n",
        "# Haciendo una predicción para Chipre\n",
        "X_new = [[20732]]  # GDP de Chipre\n",
        "print(model1.predict(X_new)) # salida [[5.2]]"
      ],
      "metadata": {
        "id": "l0LNjukLoH6I"
      },
      "execution_count": null,
      "outputs": []
    }
  ]
}